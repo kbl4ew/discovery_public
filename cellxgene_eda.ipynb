{
 "cells": [
  {
   "cell_type": "code",
   "execution_count": 16,
   "metadata": {},
   "outputs": [
    {
     "name": "stderr",
     "output_type": "stream",
     "text": [
      "/opt/homebrew/anaconda3/envs/discovery/lib/python3.11/site-packages/tqdm/auto.py:21: TqdmWarning: IProgress not found. Please update jupyter and ipywidgets. See https://ipywidgets.readthedocs.io/en/stable/user_install.html\n",
      "  from .autonotebook import tqdm as notebook_tqdm\n",
      "The \"stable\" release is currently 2023-07-25. Specify 'census_version=\"2023-07-25\"' in future calls to open_soma() to ensure data consistency.\n"
     ]
    }
   ],
   "source": [
    "import cellxgene_census\n",
    "import tiledbsoma as soma\n",
    "import cellxgene_census.experimental.ml as census_ml\n",
    "\n",
    "import torch\n",
    "import pandas as pd\n",
    "import numpy as np\n",
    "from scipy import sparse\n",
    "\n",
    "# Endpoint for loading data\n",
    "census = cellxgene_census.open_soma()"
   ]
  },
  {
   "attachments": {},
   "cell_type": "markdown",
   "metadata": {},
   "source": [
    "# Exploration of the cellxgene dataset\n",
    "\n",
    "In this initial dive, we show how to (1) list the different studies available, (2) subset to particular studies of interest, and (3) obtain raw and processed gene expression levels.\n",
    "\n",
    "This initial exploration of the cellxgene dataset is based on the following materials:\n",
    "\n",
    "- https://chanzuckerberg.github.io/cellxgene-census/examples.html (tutorials)\n",
    "- https://chanzuckerberg.github.io/cellxgene-census/cellxgene_census_docsite_schema.html (schema for the dataset)\n",
    "\n",
    "### Table of contents\n",
    "\n",
    "1. [Accessing list of studies available](#Accessing-list-of-studies-available)\n",
    "2. [Subset to particular studies](#Subset-to-particular-studies)\n",
    "3. [Obtain raw and processed gene expression levels](#Obtain-raw-and-processed-gene-expression-levels)\n"
   ]
  },
  {
   "attachments": {},
   "cell_type": "markdown",
   "metadata": {},
   "source": [
    "## Accessing list of studies available\n",
    "\n",
    "In cellxgene, the `census` object is a context manager that serves as an endpoint for all data access. It is used to load the data and metadata associated with different studies. Below we will use it to list all possible studies available to us."
   ]
  },
  {
   "cell_type": "code",
   "execution_count": 2,
   "metadata": {},
   "outputs": [],
   "source": [
    "with census:\n",
    "    # List of all studies available\n",
    "    all_studies = census[\"census_info\"][\"datasets\"].read().concat().to_pandas()"
   ]
  },
  {
   "cell_type": "code",
   "execution_count": 3,
   "metadata": {},
   "outputs": [
    {
     "data": {
      "text/html": [
       "<div>\n",
       "<style scoped>\n",
       "    .dataframe tbody tr th:only-of-type {\n",
       "        vertical-align: middle;\n",
       "    }\n",
       "\n",
       "    .dataframe tbody tr th {\n",
       "        vertical-align: top;\n",
       "    }\n",
       "\n",
       "    .dataframe thead th {\n",
       "        text-align: right;\n",
       "    }\n",
       "</style>\n",
       "<table border=\"1\" class=\"dataframe\">\n",
       "  <thead>\n",
       "    <tr style=\"text-align: right;\">\n",
       "      <th></th>\n",
       "      <th>soma_joinid</th>\n",
       "      <th>collection_id</th>\n",
       "      <th>collection_name</th>\n",
       "      <th>collection_doi</th>\n",
       "      <th>dataset_id</th>\n",
       "      <th>dataset_title</th>\n",
       "      <th>dataset_h5ad_path</th>\n",
       "      <th>dataset_total_cell_count</th>\n",
       "    </tr>\n",
       "  </thead>\n",
       "  <tbody>\n",
       "    <tr>\n",
       "      <th>0</th>\n",
       "      <td>0</td>\n",
       "      <td>e2c257e7-6f79-487c-b81c-39451cd4ab3c</td>\n",
       "      <td>Spatial multiomics map of trophoblast developm...</td>\n",
       "      <td>10.1038/s41586-023-05869-0</td>\n",
       "      <td>f171db61-e57e-4535-a06a-35d8b6ef8f2b</td>\n",
       "      <td>donor_p13_trophoblasts</td>\n",
       "      <td>f171db61-e57e-4535-a06a-35d8b6ef8f2b.h5ad</td>\n",
       "      <td>31497</td>\n",
       "    </tr>\n",
       "    <tr>\n",
       "      <th>1</th>\n",
       "      <td>1</td>\n",
       "      <td>e2c257e7-6f79-487c-b81c-39451cd4ab3c</td>\n",
       "      <td>Spatial multiomics map of trophoblast developm...</td>\n",
       "      <td>10.1038/s41586-023-05869-0</td>\n",
       "      <td>ecf2e08e-2032-4a9e-b466-b65b395f4a02</td>\n",
       "      <td>All donors trophoblasts</td>\n",
       "      <td>ecf2e08e-2032-4a9e-b466-b65b395f4a02.h5ad</td>\n",
       "      <td>67070</td>\n",
       "    </tr>\n",
       "    <tr>\n",
       "      <th>2</th>\n",
       "      <td>2</td>\n",
       "      <td>e2c257e7-6f79-487c-b81c-39451cd4ab3c</td>\n",
       "      <td>Spatial multiomics map of trophoblast developm...</td>\n",
       "      <td>10.1038/s41586-023-05869-0</td>\n",
       "      <td>74cff64f-9da9-4b2a-9b3b-8a04a1598040</td>\n",
       "      <td>All donors all cell states (in vivo)</td>\n",
       "      <td>74cff64f-9da9-4b2a-9b3b-8a04a1598040.h5ad</td>\n",
       "      <td>286326</td>\n",
       "    </tr>\n",
       "    <tr>\n",
       "      <th>3</th>\n",
       "      <td>3</td>\n",
       "      <td>f7cecffa-00b4-4560-a29a-8ad626b8ee08</td>\n",
       "      <td>Mapping single-cell transcriptomes in the intr...</td>\n",
       "      <td>10.1016/j.ccell.2022.11.001</td>\n",
       "      <td>5af90777-6760-4003-9dba-8f945fec6fdf</td>\n",
       "      <td>Single-cell transcriptomic datasets of Renal c...</td>\n",
       "      <td>5af90777-6760-4003-9dba-8f945fec6fdf.h5ad</td>\n",
       "      <td>270855</td>\n",
       "    </tr>\n",
       "    <tr>\n",
       "      <th>4</th>\n",
       "      <td>4</td>\n",
       "      <td>3f50314f-bdc9-40c6-8e4a-b0901ebfbe4c</td>\n",
       "      <td>Single-cell sequencing links multiregional imm...</td>\n",
       "      <td>10.1016/j.ccell.2021.03.007</td>\n",
       "      <td>bd65a70f-b274-4133-b9dd-0d1431b6af34</td>\n",
       "      <td>Single-cell sequencing links multiregional imm...</td>\n",
       "      <td>bd65a70f-b274-4133-b9dd-0d1431b6af34.h5ad</td>\n",
       "      <td>167283</td>\n",
       "    </tr>\n",
       "  </tbody>\n",
       "</table>\n",
       "</div>"
      ],
      "text/plain": [
       "   soma_joinid                         collection_id  \\\n",
       "0            0  e2c257e7-6f79-487c-b81c-39451cd4ab3c   \n",
       "1            1  e2c257e7-6f79-487c-b81c-39451cd4ab3c   \n",
       "2            2  e2c257e7-6f79-487c-b81c-39451cd4ab3c   \n",
       "3            3  f7cecffa-00b4-4560-a29a-8ad626b8ee08   \n",
       "4            4  3f50314f-bdc9-40c6-8e4a-b0901ebfbe4c   \n",
       "\n",
       "                                     collection_name  \\\n",
       "0  Spatial multiomics map of trophoblast developm...   \n",
       "1  Spatial multiomics map of trophoblast developm...   \n",
       "2  Spatial multiomics map of trophoblast developm...   \n",
       "3  Mapping single-cell transcriptomes in the intr...   \n",
       "4  Single-cell sequencing links multiregional imm...   \n",
       "\n",
       "                collection_doi                            dataset_id  \\\n",
       "0   10.1038/s41586-023-05869-0  f171db61-e57e-4535-a06a-35d8b6ef8f2b   \n",
       "1   10.1038/s41586-023-05869-0  ecf2e08e-2032-4a9e-b466-b65b395f4a02   \n",
       "2   10.1038/s41586-023-05869-0  74cff64f-9da9-4b2a-9b3b-8a04a1598040   \n",
       "3  10.1016/j.ccell.2022.11.001  5af90777-6760-4003-9dba-8f945fec6fdf   \n",
       "4  10.1016/j.ccell.2021.03.007  bd65a70f-b274-4133-b9dd-0d1431b6af34   \n",
       "\n",
       "                                       dataset_title  \\\n",
       "0                             donor_p13_trophoblasts   \n",
       "1                            All donors trophoblasts   \n",
       "2               All donors all cell states (in vivo)   \n",
       "3  Single-cell transcriptomic datasets of Renal c...   \n",
       "4  Single-cell sequencing links multiregional imm...   \n",
       "\n",
       "                           dataset_h5ad_path  dataset_total_cell_count  \n",
       "0  f171db61-e57e-4535-a06a-35d8b6ef8f2b.h5ad                     31497  \n",
       "1  ecf2e08e-2032-4a9e-b466-b65b395f4a02.h5ad                     67070  \n",
       "2  74cff64f-9da9-4b2a-9b3b-8a04a1598040.h5ad                    286326  \n",
       "3  5af90777-6760-4003-9dba-8f945fec6fdf.h5ad                    270855  \n",
       "4  bd65a70f-b274-4133-b9dd-0d1431b6af34.h5ad                    167283  "
      ]
     },
     "execution_count": 3,
     "metadata": {},
     "output_type": "execute_result"
    }
   ],
   "source": [
    "# Snippet of metadata available for each title. Some examples below:\n",
    "# - name of the study; seems to correspond to the name of a published paper (collection_name)\n",
    "# - collection unique identifier (collection_id)\n",
    "# - dataset unique identifier (dataset_id)\n",
    "# Collections contains datasets and some other info (e.g. author information): https://api.cellxgene.cziscience.com/curation/ui/\n",
    "all_studies.head()"
   ]
  },
  {
   "cell_type": "code",
   "execution_count": 4,
   "metadata": {},
   "outputs": [
    {
     "data": {
      "text/plain": [
       "61656118"
      ]
     },
     "execution_count": 4,
     "metadata": {},
     "output_type": "execute_result"
    }
   ],
   "source": [
    "# Number of cells across all datasets\n",
    "all_studies['dataset_total_cell_count'].sum()\n",
    "\n",
    "# IMPORTANT: this is an overcount because studies sometimes use data from previous studies.\n",
    "# see https://chanzuckerberg.github.io/cellxgene-census/notebooks/api_demo/census_dataset_presence.html#Identifying-genes-measured-in-a-specific-dataset.\n",
    "# for details"
   ]
  },
  {
   "cell_type": "code",
   "execution_count": 5,
   "metadata": {},
   "outputs": [
    {
     "data": {
      "text/plain": [
       "10k-100k    331\n",
       "1k-10k      143\n",
       "100k-1M     102\n",
       "1M-10M       12\n",
       "<1k           5\n",
       "10M+          0\n",
       "Name: dataset_total_cell_count, dtype: int64"
      ]
     },
     "execution_count": 5,
     "metadata": {},
     "output_type": "execute_result"
    }
   ],
   "source": [
    "# Distribution of the number of cells sequenced by study \n",
    "# (broken into bins for easier inspection)\n",
    "\n",
    "# The vast majority of studies have 10k-100k cells sequenced. However, some have millions\n",
    "# of cells sequences. This large skew in cell counts might bias downstream analyses (i.e., \n",
    "# a particular study might be weighted more heavily than others).\n",
    "pd.cut(\n",
    "    all_studies['dataset_total_cell_count'],\n",
    "    bins = [0, 1000, 10000, 100000, 1000000, 10000000, 1e20],\n",
    "    labels=['<1k', '1k-10k', '10k-100k', '100k-1M', '1M-10M', '10M+']\n",
    ").value_counts()"
   ]
  },
  {
   "attachments": {},
   "cell_type": "markdown",
   "metadata": {},
   "source": [
    "## Subset to particular studies\n",
    "\n",
    "Below we show how to access cell-level information for each cell sequenced in a particular study. This includes information such as the cell type, the tissue, etc."
   ]
  },
  {
   "cell_type": "code",
   "execution_count": 6,
   "metadata": {},
   "outputs": [
    {
     "data": {
      "text/html": [
       "<div>\n",
       "<style scoped>\n",
       "    .dataframe tbody tr th:only-of-type {\n",
       "        vertical-align: middle;\n",
       "    }\n",
       "\n",
       "    .dataframe tbody tr th {\n",
       "        vertical-align: top;\n",
       "    }\n",
       "\n",
       "    .dataframe thead th {\n",
       "        text-align: right;\n",
       "    }\n",
       "</style>\n",
       "<table border=\"1\" class=\"dataframe\">\n",
       "  <thead>\n",
       "    <tr style=\"text-align: right;\">\n",
       "      <th></th>\n",
       "      <th>soma_joinid</th>\n",
       "      <th>dataset_id</th>\n",
       "      <th>assay</th>\n",
       "      <th>assay_ontology_term_id</th>\n",
       "      <th>cell_type</th>\n",
       "      <th>cell_type_ontology_term_id</th>\n",
       "      <th>development_stage</th>\n",
       "      <th>development_stage_ontology_term_id</th>\n",
       "      <th>disease</th>\n",
       "      <th>disease_ontology_term_id</th>\n",
       "      <th>...</th>\n",
       "      <th>is_primary_data</th>\n",
       "      <th>self_reported_ethnicity</th>\n",
       "      <th>self_reported_ethnicity_ontology_term_id</th>\n",
       "      <th>sex</th>\n",
       "      <th>sex_ontology_term_id</th>\n",
       "      <th>suspension_type</th>\n",
       "      <th>tissue</th>\n",
       "      <th>tissue_ontology_term_id</th>\n",
       "      <th>tissue_general</th>\n",
       "      <th>tissue_general_ontology_term_id</th>\n",
       "    </tr>\n",
       "  </thead>\n",
       "  <tbody>\n",
       "    <tr>\n",
       "      <th>0</th>\n",
       "      <td>0</td>\n",
       "      <td>f171db61-e57e-4535-a06a-35d8b6ef8f2b</td>\n",
       "      <td>10x 3' v3</td>\n",
       "      <td>EFO:0009922</td>\n",
       "      <td>syncytiotrophoblast cell</td>\n",
       "      <td>CL:0000525</td>\n",
       "      <td>9th week post-fertilization human stage</td>\n",
       "      <td>HsapDv:0000046</td>\n",
       "      <td>normal</td>\n",
       "      <td>PATO:0000461</td>\n",
       "      <td>...</td>\n",
       "      <td>False</td>\n",
       "      <td>unknown</td>\n",
       "      <td>unknown</td>\n",
       "      <td>unknown</td>\n",
       "      <td>unknown</td>\n",
       "      <td>nucleus</td>\n",
       "      <td>decidua basalis</td>\n",
       "      <td>UBERON:0000453</td>\n",
       "      <td>placenta</td>\n",
       "      <td>UBERON:0001987</td>\n",
       "    </tr>\n",
       "    <tr>\n",
       "      <th>1</th>\n",
       "      <td>1</td>\n",
       "      <td>f171db61-e57e-4535-a06a-35d8b6ef8f2b</td>\n",
       "      <td>10x 3' v3</td>\n",
       "      <td>EFO:0009922</td>\n",
       "      <td>placental villous trophoblast</td>\n",
       "      <td>CL:2000060</td>\n",
       "      <td>9th week post-fertilization human stage</td>\n",
       "      <td>HsapDv:0000046</td>\n",
       "      <td>normal</td>\n",
       "      <td>PATO:0000461</td>\n",
       "      <td>...</td>\n",
       "      <td>False</td>\n",
       "      <td>unknown</td>\n",
       "      <td>unknown</td>\n",
       "      <td>unknown</td>\n",
       "      <td>unknown</td>\n",
       "      <td>nucleus</td>\n",
       "      <td>decidua basalis</td>\n",
       "      <td>UBERON:0000453</td>\n",
       "      <td>placenta</td>\n",
       "      <td>UBERON:0001987</td>\n",
       "    </tr>\n",
       "    <tr>\n",
       "      <th>2</th>\n",
       "      <td>2</td>\n",
       "      <td>f171db61-e57e-4535-a06a-35d8b6ef8f2b</td>\n",
       "      <td>10x 3' v3</td>\n",
       "      <td>EFO:0009922</td>\n",
       "      <td>syncytiotrophoblast cell</td>\n",
       "      <td>CL:0000525</td>\n",
       "      <td>9th week post-fertilization human stage</td>\n",
       "      <td>HsapDv:0000046</td>\n",
       "      <td>normal</td>\n",
       "      <td>PATO:0000461</td>\n",
       "      <td>...</td>\n",
       "      <td>False</td>\n",
       "      <td>unknown</td>\n",
       "      <td>unknown</td>\n",
       "      <td>unknown</td>\n",
       "      <td>unknown</td>\n",
       "      <td>nucleus</td>\n",
       "      <td>decidua basalis</td>\n",
       "      <td>UBERON:0000453</td>\n",
       "      <td>placenta</td>\n",
       "      <td>UBERON:0001987</td>\n",
       "    </tr>\n",
       "    <tr>\n",
       "      <th>3</th>\n",
       "      <td>3</td>\n",
       "      <td>f171db61-e57e-4535-a06a-35d8b6ef8f2b</td>\n",
       "      <td>10x 3' v3</td>\n",
       "      <td>EFO:0009922</td>\n",
       "      <td>syncytiotrophoblast cell</td>\n",
       "      <td>CL:0000525</td>\n",
       "      <td>9th week post-fertilization human stage</td>\n",
       "      <td>HsapDv:0000046</td>\n",
       "      <td>normal</td>\n",
       "      <td>PATO:0000461</td>\n",
       "      <td>...</td>\n",
       "      <td>False</td>\n",
       "      <td>unknown</td>\n",
       "      <td>unknown</td>\n",
       "      <td>unknown</td>\n",
       "      <td>unknown</td>\n",
       "      <td>nucleus</td>\n",
       "      <td>decidua basalis</td>\n",
       "      <td>UBERON:0000453</td>\n",
       "      <td>placenta</td>\n",
       "      <td>UBERON:0001987</td>\n",
       "    </tr>\n",
       "    <tr>\n",
       "      <th>4</th>\n",
       "      <td>4</td>\n",
       "      <td>f171db61-e57e-4535-a06a-35d8b6ef8f2b</td>\n",
       "      <td>10x 3' v3</td>\n",
       "      <td>EFO:0009922</td>\n",
       "      <td>extravillous trophoblast</td>\n",
       "      <td>CL:0008036</td>\n",
       "      <td>9th week post-fertilization human stage</td>\n",
       "      <td>HsapDv:0000046</td>\n",
       "      <td>normal</td>\n",
       "      <td>PATO:0000461</td>\n",
       "      <td>...</td>\n",
       "      <td>False</td>\n",
       "      <td>unknown</td>\n",
       "      <td>unknown</td>\n",
       "      <td>unknown</td>\n",
       "      <td>unknown</td>\n",
       "      <td>nucleus</td>\n",
       "      <td>decidua basalis</td>\n",
       "      <td>UBERON:0000453</td>\n",
       "      <td>placenta</td>\n",
       "      <td>UBERON:0001987</td>\n",
       "    </tr>\n",
       "  </tbody>\n",
       "</table>\n",
       "<p>5 rows × 21 columns</p>\n",
       "</div>"
      ],
      "text/plain": [
       "   soma_joinid                            dataset_id      assay  \\\n",
       "0            0  f171db61-e57e-4535-a06a-35d8b6ef8f2b  10x 3' v3   \n",
       "1            1  f171db61-e57e-4535-a06a-35d8b6ef8f2b  10x 3' v3   \n",
       "2            2  f171db61-e57e-4535-a06a-35d8b6ef8f2b  10x 3' v3   \n",
       "3            3  f171db61-e57e-4535-a06a-35d8b6ef8f2b  10x 3' v3   \n",
       "4            4  f171db61-e57e-4535-a06a-35d8b6ef8f2b  10x 3' v3   \n",
       "\n",
       "  assay_ontology_term_id                      cell_type  \\\n",
       "0            EFO:0009922       syncytiotrophoblast cell   \n",
       "1            EFO:0009922  placental villous trophoblast   \n",
       "2            EFO:0009922       syncytiotrophoblast cell   \n",
       "3            EFO:0009922       syncytiotrophoblast cell   \n",
       "4            EFO:0009922       extravillous trophoblast   \n",
       "\n",
       "  cell_type_ontology_term_id                        development_stage  \\\n",
       "0                 CL:0000525  9th week post-fertilization human stage   \n",
       "1                 CL:2000060  9th week post-fertilization human stage   \n",
       "2                 CL:0000525  9th week post-fertilization human stage   \n",
       "3                 CL:0000525  9th week post-fertilization human stage   \n",
       "4                 CL:0008036  9th week post-fertilization human stage   \n",
       "\n",
       "  development_stage_ontology_term_id disease disease_ontology_term_id  ...  \\\n",
       "0                     HsapDv:0000046  normal             PATO:0000461  ...   \n",
       "1                     HsapDv:0000046  normal             PATO:0000461  ...   \n",
       "2                     HsapDv:0000046  normal             PATO:0000461  ...   \n",
       "3                     HsapDv:0000046  normal             PATO:0000461  ...   \n",
       "4                     HsapDv:0000046  normal             PATO:0000461  ...   \n",
       "\n",
       "  is_primary_data  self_reported_ethnicity  \\\n",
       "0           False                  unknown   \n",
       "1           False                  unknown   \n",
       "2           False                  unknown   \n",
       "3           False                  unknown   \n",
       "4           False                  unknown   \n",
       "\n",
       "  self_reported_ethnicity_ontology_term_id      sex sex_ontology_term_id  \\\n",
       "0                                  unknown  unknown              unknown   \n",
       "1                                  unknown  unknown              unknown   \n",
       "2                                  unknown  unknown              unknown   \n",
       "3                                  unknown  unknown              unknown   \n",
       "4                                  unknown  unknown              unknown   \n",
       "\n",
       "  suspension_type           tissue tissue_ontology_term_id tissue_general  \\\n",
       "0         nucleus  decidua basalis          UBERON:0000453       placenta   \n",
       "1         nucleus  decidua basalis          UBERON:0000453       placenta   \n",
       "2         nucleus  decidua basalis          UBERON:0000453       placenta   \n",
       "3         nucleus  decidua basalis          UBERON:0000453       placenta   \n",
       "4         nucleus  decidua basalis          UBERON:0000453       placenta   \n",
       "\n",
       "  tissue_general_ontology_term_id  \n",
       "0                  UBERON:0001987  \n",
       "1                  UBERON:0001987  \n",
       "2                  UBERON:0001987  \n",
       "3                  UBERON:0001987  \n",
       "4                  UBERON:0001987  \n",
       "\n",
       "[5 rows x 21 columns]"
      ]
     },
     "execution_count": 6,
     "metadata": {},
     "output_type": "execute_result"
    }
   ],
   "source": [
    "# Get all metadata for a study\n",
    "# Below, we just took the first dataset_id from the dataframe above\n",
    "\n",
    "example_study = (\n",
    "    census[\"census_data\"][\"homo_sapiens\"]\n",
    "    .obs.read(\n",
    "        value_filter=\"dataset_id == 'f171db61-e57e-4535-a06a-35d8b6ef8f2b'\",\n",
    "    )\n",
    "    .concat()\n",
    "    .to_pandas()\n",
    ")\n",
    "\n",
    "example_study.head()\n"
   ]
  },
  {
   "cell_type": "code",
   "execution_count": 7,
   "metadata": {},
   "outputs": [
    {
     "data": {
      "text/plain": [
       "Index(['soma_joinid', 'dataset_id', 'assay', 'assay_ontology_term_id',\n",
       "       'cell_type', 'cell_type_ontology_term_id', 'development_stage',\n",
       "       'development_stage_ontology_term_id', 'disease',\n",
       "       'disease_ontology_term_id', 'donor_id', 'is_primary_data',\n",
       "       'self_reported_ethnicity', 'self_reported_ethnicity_ontology_term_id',\n",
       "       'sex', 'sex_ontology_term_id', 'suspension_type', 'tissue',\n",
       "       'tissue_ontology_term_id', 'tissue_general',\n",
       "       'tissue_general_ontology_term_id'],\n",
       "      dtype='object')"
      ]
     },
     "execution_count": 7,
     "metadata": {},
     "output_type": "execute_result"
    }
   ],
   "source": [
    "# List of cell data available\n",
    "example_study.columns"
   ]
  },
  {
   "cell_type": "code",
   "execution_count": 8,
   "metadata": {},
   "outputs": [
    {
     "data": {
      "text/plain": [
       "syncytiotrophoblast cell         18471\n",
       "placental villous trophoblast    10038\n",
       "extravillous trophoblast          2966\n",
       "trophoblast giant cell              22\n",
       "Name: cell_type, dtype: int64"
      ]
     },
     "execution_count": 8,
     "metadata": {},
     "output_type": "execute_result"
    }
   ],
   "source": [
    "# Distribution of the cell types represented in this study\n",
    "example_study['cell_type'].value_counts()"
   ]
  },
  {
   "cell_type": "code",
   "execution_count": 9,
   "metadata": {},
   "outputs": [
    {
     "data": {
      "text/plain": [
       "decidua basalis    31497\n",
       "Name: tissue, dtype: int64"
      ]
     },
     "execution_count": 9,
     "metadata": {},
     "output_type": "execute_result"
    }
   ],
   "source": [
    "# Distribution of the tissues represented in this study\n",
    "example_study['tissue'].value_counts()"
   ]
  },
  {
   "cell_type": "code",
   "execution_count": 10,
   "metadata": {},
   "outputs": [
    {
     "data": {
      "text/plain": [
       "False    31497\n",
       "Name: is_primary_data, dtype: int64"
      ]
     },
     "execution_count": 10,
     "metadata": {},
     "output_type": "execute_result"
    }
   ],
   "source": [
    "# If is_primary_data = False, then this means this data is not the primary source.\n",
    "# That is, this data is sourced from another study. Here, all the data is non-primary\n",
    "# so this paper probably just analyzed someone else's data when publishing their \n",
    "# paper.\n",
    "example_study['is_primary_data'].value_counts()"
   ]
  },
  {
   "cell_type": "code",
   "execution_count": 11,
   "metadata": {},
   "outputs": [
    {
     "data": {
      "text/plain": [
       "unknown    31472\n",
       "female        25\n",
       "Name: sex, dtype: int64"
      ]
     },
     "execution_count": 11,
     "metadata": {},
     "output_type": "execute_result"
    }
   ],
   "source": [
    "# The majority of sex is unknown\n",
    "example_study['sex'].value_counts()"
   ]
  },
  {
   "attachments": {},
   "cell_type": "markdown",
   "metadata": {},
   "source": [
    "### We can also subset to studies that satisfy certain criteria using the `value_filter` argument and certain columns of interest using the `columns` argument."
   ]
  },
  {
   "cell_type": "code",
   "execution_count": 12,
   "metadata": {},
   "outputs": [],
   "source": [
    "example_multiple_studies = (\n",
    "    census[\"census_data\"][\"homo_sapiens\"]\n",
    "    .obs.read(\n",
    "        value_filter=\"cell_type == 'B cell' and tissue_general == 'lung'\",\n",
    "        column_names=[\"disease\"],\n",
    "    )\n",
    "    .concat()\n",
    "    .to_pandas()\n",
    ")"
   ]
  },
  {
   "cell_type": "code",
   "execution_count": 13,
   "metadata": {},
   "outputs": [
    {
     "data": {
      "text/html": [
       "<div>\n",
       "<style scoped>\n",
       "    .dataframe tbody tr th:only-of-type {\n",
       "        vertical-align: middle;\n",
       "    }\n",
       "\n",
       "    .dataframe tbody tr th {\n",
       "        vertical-align: top;\n",
       "    }\n",
       "\n",
       "    .dataframe thead th {\n",
       "        text-align: right;\n",
       "    }\n",
       "</style>\n",
       "<table border=\"1\" class=\"dataframe\">\n",
       "  <thead>\n",
       "    <tr style=\"text-align: right;\">\n",
       "      <th></th>\n",
       "      <th>disease</th>\n",
       "      <th>cell_type</th>\n",
       "      <th>tissue_general</th>\n",
       "    </tr>\n",
       "  </thead>\n",
       "  <tbody>\n",
       "    <tr>\n",
       "      <th>0</th>\n",
       "      <td>normal</td>\n",
       "      <td>B cell</td>\n",
       "      <td>lung</td>\n",
       "    </tr>\n",
       "    <tr>\n",
       "      <th>1</th>\n",
       "      <td>normal</td>\n",
       "      <td>B cell</td>\n",
       "      <td>lung</td>\n",
       "    </tr>\n",
       "    <tr>\n",
       "      <th>2</th>\n",
       "      <td>normal</td>\n",
       "      <td>B cell</td>\n",
       "      <td>lung</td>\n",
       "    </tr>\n",
       "    <tr>\n",
       "      <th>3</th>\n",
       "      <td>normal</td>\n",
       "      <td>B cell</td>\n",
       "      <td>lung</td>\n",
       "    </tr>\n",
       "    <tr>\n",
       "      <th>4</th>\n",
       "      <td>normal</td>\n",
       "      <td>B cell</td>\n",
       "      <td>lung</td>\n",
       "    </tr>\n",
       "    <tr>\n",
       "      <th>...</th>\n",
       "      <td>...</td>\n",
       "      <td>...</td>\n",
       "      <td>...</td>\n",
       "    </tr>\n",
       "    <tr>\n",
       "      <th>138794</th>\n",
       "      <td>normal</td>\n",
       "      <td>B cell</td>\n",
       "      <td>lung</td>\n",
       "    </tr>\n",
       "    <tr>\n",
       "      <th>138795</th>\n",
       "      <td>normal</td>\n",
       "      <td>B cell</td>\n",
       "      <td>lung</td>\n",
       "    </tr>\n",
       "    <tr>\n",
       "      <th>138796</th>\n",
       "      <td>normal</td>\n",
       "      <td>B cell</td>\n",
       "      <td>lung</td>\n",
       "    </tr>\n",
       "    <tr>\n",
       "      <th>138797</th>\n",
       "      <td>normal</td>\n",
       "      <td>B cell</td>\n",
       "      <td>lung</td>\n",
       "    </tr>\n",
       "    <tr>\n",
       "      <th>138798</th>\n",
       "      <td>normal</td>\n",
       "      <td>B cell</td>\n",
       "      <td>lung</td>\n",
       "    </tr>\n",
       "  </tbody>\n",
       "</table>\n",
       "<p>138799 rows × 3 columns</p>\n",
       "</div>"
      ],
      "text/plain": [
       "       disease cell_type tissue_general\n",
       "0       normal    B cell           lung\n",
       "1       normal    B cell           lung\n",
       "2       normal    B cell           lung\n",
       "3       normal    B cell           lung\n",
       "4       normal    B cell           lung\n",
       "...        ...       ...            ...\n",
       "138794  normal    B cell           lung\n",
       "138795  normal    B cell           lung\n",
       "138796  normal    B cell           lung\n",
       "138797  normal    B cell           lung\n",
       "138798  normal    B cell           lung\n",
       "\n",
       "[138799 rows x 3 columns]"
      ]
     },
     "execution_count": 13,
     "metadata": {},
     "output_type": "execute_result"
    }
   ],
   "source": [
    "# There over 100k cells that mean criteria\n",
    "example_multiple_studies"
   ]
  },
  {
   "cell_type": "code",
   "execution_count": 14,
   "metadata": {},
   "outputs": [
    {
     "data": {
      "text/plain": [
       "disease                                cell_type  tissue_general\n",
       "lung adenocarcinoma                    B cell     lung              62351\n",
       "normal                                 B cell     lung              25461\n",
       "non-small cell lung carcinoma          B cell     lung              17484\n",
       "squamous cell lung carcinoma           B cell     lung              11920\n",
       "pulmonary fibrosis                     B cell     lung               6798\n",
       "chronic obstructive pulmonary disease  B cell     lung               6369\n",
       "COVID-19                               B cell     lung               2729\n",
       "lung large cell carcinoma              B cell     lung               1534\n",
       "pulmonary emphysema                    B cell     lung               1512\n",
       "pleomorphic carcinoma                  B cell     lung               1210\n",
       "small cell lung carcinoma              B cell     lung                583\n",
       "interstitial lung disease              B cell     lung                376\n",
       "non-specific interstitial pneumonia    B cell     lung                231\n",
       "lymphangioleiomyomatosis               B cell     lung                133\n",
       "hypersensitivity pneumonitis           B cell     lung                 52\n",
       "pneumonia                              B cell     lung                 50\n",
       "pulmonary sarcoidosis                  B cell     lung                  6\n",
       "dtype: int64"
      ]
     },
     "execution_count": 14,
     "metadata": {},
     "output_type": "execute_result"
    }
   ],
   "source": [
    "example_multiple_studies.value_counts()"
   ]
  },
  {
   "attachments": {},
   "cell_type": "markdown",
   "metadata": {},
   "source": [
    "# Obtain raw and processed gene expression levels\n",
    "\n",
    "Now, we show how to obtain raw and processed gene expression levels."
   ]
  },
  {
   "cell_type": "code",
   "execution_count": 17,
   "metadata": {},
   "outputs": [],
   "source": [
    "# The `ExperimentDataPipe` allows us to load data in batches to avoid\n",
    "# memory issues. We can also filter the data by cell type, tissue, etc.\n",
    "experiment = census[\"census_data\"][\"homo_sapiens\"]\n",
    "experiment_datapipe = census_ml.ExperimentDataPipe(\n",
    "    experiment,\n",
    "    measurement_name=\"RNA\",\n",
    "    X_name=\"raw\",\n",
    "    obs_query=soma.AxisQuery(value_filter=\"tissue_general == 'tongue' and is_primary_data == True\"),\n",
    "    obs_column_names=[\"cell_type\"],\n",
    "    batch_size=16,\n",
    ")"
   ]
  },
  {
   "cell_type": "code",
   "execution_count": 18,
   "metadata": {},
   "outputs": [
    {
     "data": {
      "text/plain": [
       "(15020, 60664)"
      ]
     },
     "execution_count": 18,
     "metadata": {},
     "output_type": "execute_result"
    }
   ],
   "source": [
    "# there are 15k cells and 60k genes\n",
    "experiment_datapipe.shape"
   ]
  }
 ],
 "metadata": {
  "kernelspec": {
   "display_name": "discovery",
   "language": "python",
   "name": "python3"
  },
  "language_info": {
   "codemirror_mode": {
    "name": "ipython",
    "version": 3
   },
   "file_extension": ".py",
   "mimetype": "text/x-python",
   "name": "python",
   "nbconvert_exporter": "python",
   "pygments_lexer": "ipython3",
   "version": "3.11.4"
  },
  "orig_nbformat": 4
 },
 "nbformat": 4,
 "nbformat_minor": 2
}
